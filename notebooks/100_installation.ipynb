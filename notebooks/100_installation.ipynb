{
 "cells": [
  {
   "cell_type": "markdown",
   "metadata": {
    "slideshow": {
     "slide_type": "-"
    }
   },
   "source": [
    "[comment]: <> (los titulares se generan en el siguiente link: https://docs.google.com/drawings/d/1TLM83sTn9w2Jmq0l0Jy1ivIeLRVO_rKBCamm5Tq11Yo/edit?usp=sharing)\n",
    "\n",
    "![](../img/titulo_instalacion.png)"
   ]
  },
  {
   "cell_type": "markdown",
   "metadata": {},
   "source": [
    "## Contents\n",
    "\n",
    "* [Development environment for Python](#Development-environment-for-Python)\n",
    "* [Simplified installations](#Simplified-installations)\n",
    "    * [Anaconda](#Anaconda)\n",
    "    * [Miniconda](#Miniconda)\n",
    "    * [Installing packages with conda (or pip)](#Installing-packages-with-conda-(or-pip))\n",
    "    * [Using the course material](#Using-the-course-material)\n",
    "* [Recommended bibliography for the course](#Recommended-bibliography-for-the-course)\n",
    "* [References used in the notebook](#References-used-in-the-notebook)"
   ]
  },
  {
   "cell_type": "markdown",
   "metadata": {},
   "source": [
    "## Notebook goals\n",
    "\n",
    "* Learn to install and configure the basic development environment.\n",
    "* Install packages.\n",
    "* Use the course material from Jupyter Lab."
   ]
  },
  {
   "cell_type": "markdown",
   "metadata": {},
   "source": [
    "## Development environment for Python\n",
    "\n",
    "[Python](https://www.python.org) It is a multiplatform programming language, which means that it runs on all major operating systems, but differs slightly depending on its version. Therefore, some considerations should be kept in mind when installing. In general terms, to develop in Python we must have the following elements:\n",
    "\n",
    "* Python interpreter.\n",
    "* Package manager.\n",
    "* IDE (Integrated Development Environment).\n",
    "* Libraries."
   ]
  },
  {
   "cell_type": "markdown",
   "metadata": {
    "slideshow": {
     "slide_type": "slide"
    }
   },
   "source": [
    "## Simplified installations\n",
    "\n",
    "For this course, we chose to simplify the installation procedure to focus on the code. The separate installation of the Python interpreter, an IDE and all the packages we will use, can be a confusing task if the development ecosystem is not clear. As the course progresses, more detail of these elements will be given..\n",
    "\n",
    "[Anaconda](https://www.anaconda.com/distribution/) is a free and open distribution of the **Python** and **R** languages, which is aimed at simplifying the deployment and administration of software packages.\n",
    "\n",
    "### Anaconda \n",
    "\n",
    "![](https://i1.wp.com/www.linuxhispano.net/wp-content/uploads/2016/08/anaconda_logo.png?fit=1080%2C540)\n",
    "\n",
    "Some relevant Anaconda features are:\n",
    "\n",
    "* It is free, open source and with a very detailed [documentation](https://docs.anaconda.com/) and a large community.\n",
    "* It is a multiplatform suite (Gnu/Linux, MacOS and Windows).\n",
    "* Oriented to large-scale data processing and scientific computing.\n",
    "* Aim to simplify package management and distribution.\n",
    "* It's package manager is called [Conda](https://docs.conda.io/en/latest/).\n",
    "* Eliminates package dependency and version control problems.\n",
    "\n",
    "#### Miniconda\n",
    "\n",
    "Instead of installing **Anaconda**, it can be installed **Miniconda**, which is a minimalist version of Anaconda only that only includes **Python**, **Pip** and **Conda** (and other packages necessary for its operation).\n",
    "\n",
    "¿Why should I install **Miniconda** instead of **Anaconda**?\n",
    "\n",
    "* For disk space issues: instead of installing everything, you can install only what you need.\n",
    "* To learn to install packages, in case you ever need one that Anaconda does not include.\n",
    "\n",
    "Enter the [Miniconda official website](https://docs.conda.io/en/latest/miniconda.html) and install the version corresponding to the operating system that you have.\n",
    "\n",
    "#### Update Miniconda using Conda\n",
    "\n",
    "![](https://docs.conda.io/en/latest/_images/conda_logo.svg)\n",
    "\n",
    "[Conda](https://docs.conda.io/en/latest/) is the package manager which uses both Miniconda and Anaconda, is analogous to [pip](https://pypi.org/). They serve to download and install packages automatically, among other things. Now, we are going to update Anaconda to make sure we have our Python distribution with all its packages up to date. We open a terminal and execute the following update commands (confirming in the case of having to install new packages):\n",
    "\n",
    "``` bash\n",
    "conda update --all\n",
    "```\n",
    "\n",
    "#### Anaconda installation\n",
    "\n",
    "If you prefer the complete tool package, choose **Anaconda**:\n",
    "\n",
    "> Anaconda installation depends on the operating system installed, to have the detailed steps for each operating system [see official documentation](https://docs.anaconda.com/anaconda/install/)\n",
    "\n",
    "* Go to the [download site of Anaconda](https://www.anaconda.com/download/).\n",
    "* Select your operating system (Windows, OSX, Linux).\n",
    "* Download Anaconda (Version Python 3.x) and execute it."
   ]
  },
  {
   "cell_type": "markdown",
   "metadata": {},
   "source": [
    "### Installing packages with conda (or pip)\n",
    "\n",
    "Once installed **Miniconda** (or Anaconda), open a console. In Windows, you can go to the start menu, write \"cmd\" and you will see \"cmd.exe\" or \"Command Prompt\". \n",
    "\n",
    "First, let's get a list of the installed packages:\n",
    "``` bash\n",
    "conda list\n",
    "```\n",
    "\n",
    "Let's try installing Jupyter Lab. For this, you can write in the console (as recommended by the [official documentation](https://jupyter.org/install)):\n",
    "\n",
    "**Conda**\n",
    "``` bash\n",
    "conda install jupyterlab\n",
    "```\n",
    "\n",
    "**Pip**\n",
    "``` bash\n",
    "pip install jupyterlab\n",
    "```\n",
    "\n",
    "It will show a text saying which packages are going to be installed or updated, and ask if you want to proceed. Putting \"y\" automatically downloads the package from internet and installs it. As simple as that.\n",
    "\n",
    "It is important to clarify, in addition, that throughout the seminar, when we mention **notebook**, reference will be made to the .ipynb file, instead of the program **Jupyter Notebook**. The term notebook **notebook** is inherited from [IPython](https://es.wikipedia.org/wiki/IPython)."
   ]
  },
  {
   "cell_type": "markdown",
   "metadata": {},
   "source": [
    "### Using the course material\n",
    "\n",
    "Once the development environment is installed and configured, it is necessary to download the seminar material in order to have access to it offline, as it appears on the [home page](../README.md#Notebooks)\n",
    ". \n",
    "Then, open a terminal at the folder where the material was unzipped. \n",
    "\n",
    "![](../img/terminal_jupyterlab.png)\n",
    "\n",
    "> **Note:** It is important that the address that appears on the command line is that corresponding to the course folder (eg: \"python_introduction/notebooks\"), or certain elements, such as embedded images, will not be displayed correctly.\n",
    "\n",
    "A few lines will appear and your predefined web browser will open. **There is no need to have an Internet connection**. What is happening is that \"your browser is showing what the program that is running from the command line tells to it.\" So don't close the command line (terminal) until you finish using the notebook and have already saved and closed it in your browser.\n",
    "\n",
    "In that window of your browser you can move through the folders and see the files with extension .ipynb. Go to the **notebooks** folder and open the first class by clicking on it.\n",
    "\n",
    "![](../img/jupyterlab.png)"
   ]
  },
  {
   "cell_type": "markdown",
   "metadata": {},
   "source": [
    "## Recommended bibliography for the course\n",
    "\n",
    "Most of the theoretical content of this course was extracted from: \n",
    "\n",
    "* Matthes, Eric. *Python crash course: a hands-on, project-based introduction to programming*. No Starch Press, 2015.\n",
    "* Van Rossum, Guido; Drake, Fred L. *The python language reference manual*. Network Theory Ltd., 2011."
   ]
  },
  {
   "cell_type": "markdown",
   "metadata": {
    "slideshow": {
     "slide_type": "slide"
    }
   },
   "source": [
    "## References used by the notebook\n",
    "\n",
    "* Molloy, Derek. *Exploring Raspberry Pi: interfacing to the real world with embedded Linux*. John Wiley & Sons, 2016.\n",
    "* Cano, Juan Luis. *Curso Aero Python*. Extraido de [GitHub](https://github.com/AeroPython/Curso_AeroPython), 2016."
   ]
  },
  {
   "cell_type": "markdown",
   "metadata": {},
   "source": [
    "## Licencia\n",
    "\n",
    "<a rel=\"license\" href=\"http://creativecommons.org/licenses/by-sa/4.0/\"><img alt=\"Licencia de Creative Commons\" style=\"border-width:0\" src=\"https://i.creativecommons.org/l/by-sa/4.0/88x31.png\" /></a><br />This document is distributed with a <a rel=\"license\" href=\"http://creativecommons.org/licenses/by-sa/4.0/\">Creative Commons Attribution-ShareAlike 4.0 International license</a>.\n",
    "\n",
    "© 2020. Infiniem Labs Acústica. infiniemlab.dsp@gmail.com (CC BY-SA 4.0))"
   ]
  }
 ],
 "metadata": {
  "kernelspec": {
   "display_name": "Python 3",
   "language": "python",
   "name": "python3"
  },
  "language_info": {
   "codemirror_mode": {
    "name": "ipython",
    "version": 3
   },
   "file_extension": ".py",
   "mimetype": "text/x-python",
   "name": "python",
   "nbconvert_exporter": "python",
   "pygments_lexer": "ipython3",
   "version": "3.7.3"
  }
 },
 "nbformat": 4,
 "nbformat_minor": 4
}
