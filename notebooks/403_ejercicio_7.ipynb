{
 "cells": [
  {
   "cell_type": "markdown",
   "metadata": {
    "slideshow": {
     "slide_type": "-"
    }
   },
   "source": [
    "[comment]: <> (los titulares se generan en el siguiente link: https://docs.google.com/drawings/d/1TLM83sTn9w2Jmq0l0Jy1ivIeLRVO_rKBCamm5Tq11Yo/edit?usp=sharing)\n",
    "\n",
    "![](../img/titulos_ejercicios.png)"
   ]
  },
  {
   "cell_type": "markdown",
   "metadata": {},
   "source": [
    "# Ejercicios propuesto "
   ]
  },
  {
   "cell_type": "markdown",
   "metadata": {},
   "source": [
    "**1.** Localiza el error en los siguientes bloques de código. Crea una excepción para evitar que el programa se bloquee y además explica en un mensaje al usuario la causa y/o solución:"
   ]
  },
  {
   "cell_type": "code",
   "execution_count": null,
   "metadata": {},
   "outputs": [],
   "source": [
    "resultado = 10/0"
   ]
  },
  {
   "cell_type": "code",
   "execution_count": null,
   "metadata": {},
   "outputs": [],
   "source": []
  },
  {
   "cell_type": "code",
   "execution_count": null,
   "metadata": {},
   "outputs": [],
   "source": [
    "resultado = 15 + \"20\""
   ]
  },
  {
   "cell_type": "code",
   "execution_count": null,
   "metadata": {},
   "outputs": [],
   "source": []
  },
  {
   "cell_type": "markdown",
   "metadata": {},
   "source": [
    "**2.** Localiza el error en el siguiente bloque de código. Crea una excepción para evitar que el programa se bloquee y además explica en un mensaje al usuario la causa y/o solución:"
   ]
  },
  {
   "cell_type": "code",
   "execution_count": null,
   "metadata": {},
   "outputs": [],
   "source": [
    "lista = [1, 2, 3, 4, 5]\n",
    "lista[10]"
   ]
  },
  {
   "cell_type": "code",
   "execution_count": null,
   "metadata": {},
   "outputs": [],
   "source": []
  },
  {
   "cell_type": "markdown",
   "metadata": {},
   "source": [
    "**3.** Localiza el error en el siguiente bloque de código. Crea una excepción para evitar que el programa se bloquee y además explica en un mensaje al usuario la causa y/o solución:"
   ]
  },
  {
   "cell_type": "code",
   "execution_count": null,
   "metadata": {},
   "outputs": [],
   "source": [
    "resultado = 15 + \"20\""
   ]
  },
  {
   "cell_type": "code",
   "execution_count": null,
   "metadata": {},
   "outputs": [],
   "source": []
  },
  {
   "cell_type": "markdown",
   "metadata": {},
   "source": [
    "**4.** Implementar control de excepciones en el siguiente código. Además contemplar el uso de while loop, para un ingreso constante de datos, hasta que el usuario ingrese 'salir'."
   ]
  },
  {
   "cell_type": "code",
   "execution_count": null,
   "metadata": {},
   "outputs": [],
   "source": [
    "# Definir las funciones que realizarán las operaciones de la calculadora \n",
    "\n",
    "# Sumar dos números entre sí\n",
    "def sumar(x, y):\n",
    "   return x + y\n",
    "\n",
    "# Restar dos números entre sí \n",
    "def restar(x, y):\n",
    "   return x - y\n",
    "\n",
    "# Multiplicar dos números entre sí\n",
    "def multiplicar(x, y):\n",
    "   return x * y\n",
    "\n",
    "# Dividir dos números entre sí\n",
    "def dividir(x, y):\n",
    "   return x / y    \n",
    "\n",
    "estado = 'C'\n",
    "\n",
    "while estado == 'C':\n",
    "\n",
    "    # Definir mensajes de salida para el usuario, para que pueda elegir una operación\n",
    "    print(\"Seleccione una operación.\")\n",
    "    print(\"1. Sumar\")\n",
    "    print(\"2. Restar\")\n",
    "    print(\"3. Multiplicar\")\n",
    "    print(\"4. Dividir\")\n",
    "\n",
    "    # Tomar la opción ingresada por el usuario\n",
    "    opcion = input(\"Elija una operación: \")\n",
    "\n",
    "    # Pedir al usuario que ingrese los dos números para operar sobre ellos\n",
    "    num1 = int(input(\"Ingrese primer número: \"))\n",
    "    num2 = int(input(\"Ingrese segundo número: \"))\n",
    "\n",
    "    # Estructura condicional para aplicar la funcion elegida\n",
    "    if opcion == '1':\n",
    "        resultado = sumar(num1,num2)\n",
    "        print(num1,\"+\",num2,\"=\", resultado)\n",
    "    elif opcion == '2':\n",
    "        resultado = restar(num1,num2)\n",
    "        print(num1,\"-\",num2,\"=\", resultado)\n",
    "    elif opcion == '3':\n",
    "        resultado = multiplicar(num1,num2)\n",
    "        print(num1,\"*\",num2,\"=\", resultado)\n",
    "    elif opcion == '4':\n",
    "        resultado = dividir(num1,num2)\n",
    "        print(num1,\"/\",num2,\"=\", resultado)\n",
    "    else:\n",
    "       print(\"ERROR: Entrada inválida\")\n",
    "    \n",
    "    # Pedir al usuario qué desea hacer: continuar o salir\n",
    "    print('¿Qué desea hacer?')\n",
    "    print(' -> C: Continuar ')\n",
    "    print(' -> X: Salir')\n",
    "    estado = input('Ingrese la opcion elegida: ')\n",
    "    \n",
    "    if estado == 'X':\n",
    "        print('Saliendo del programa...')\n",
    "    elif estado == 'C':\n",
    "        print('\\n--------------------\\n')\n",
    "    else:\n",
    "        print('ERROR: Entrada inválida')\n",
    "        break"
   ]
  },
  {
   "cell_type": "code",
   "execution_count": null,
   "metadata": {},
   "outputs": [],
   "source": []
  },
  {
   "cell_type": "markdown",
   "metadata": {},
   "source": [
    "**5.** Crear un entorno virtual de \"prueba\", para practicar el uso de entornos virtuales. Esto es útil para separar y evitar la interacción entre entornos de trabajo, ya que podemos elegir las herramientas predeterminadas para cada uno y evitar conflictos. \n",
    "\n",
    "> **Nota:** todos las instrucciones son ingresadas en una terminal del sistema operativo o desde Anaconda Promp.\n",
    "\n",
    "Lo podemos hacer con:\n",
    "\n",
    "* [virtualenv](https://virtualenv.pypa.io/en/stable/).\n",
    "* [conda](https://docs.conda.io/projects/conda/en/latest/user-guide/tasks/manage-environments.html)\n",
    "\n",
    "Con ` virtualenv` \n",
    "\n",
    "``` bash\n",
    "pip install virtualenv # instalando virtualenv\n",
    "\n",
    "virtualenv nombre_de_tu_entorno -p python3 # creando un entorno con nombre <nombre_de_tu_entorno>\n",
    "\n",
    "virtualenv nombre_de_tu_entorno -p python # en caso que el anterior no funcione\n",
    "\n",
    "cd nombre_de_tu_entorno/Scripts\n",
    "\n",
    "```\n",
    "Dentro de la carpeta creada recientemente, con el nombre del entorno virtual\n",
    "\n",
    "``` bash\n",
    "activate nombre_de_tu_entorno # activar el entorno, en el caso de usar windows\n",
    "\n",
    "source activate nombre_de_tu_entorno # activar el entorno, en el caso de usar linux\n",
    "\n",
    "deactivate # desactiva el entorno\n",
    "```\n",
    "\n",
    "Con `conda` \n",
    "\n",
    "Por defecto cuando instalamos Miniconda instalamos conda y en particular en el directorio que tenemos instalado conda se encuetra la carpeta **envs**, con todos los entornos virtuales instalados con conda.\n",
    "\n",
    "``` bash\n",
    "conda create --name nombre_de_tu_entorno python # creando un entorno con nombre <nombre_de_tu_entorno>\n",
    "\n",
    "conda activate nombre_de_tu_entorno # activar el entorno\n",
    "\n",
    "conda deactivate # desactiva el entorno\n",
    "\n",
    "conda remove --name nombre_de_tu_entorno --all # elimina el entorno\n",
    "\n",
    "conda info --envs # lista los entornos instalados\n",
    "```"
   ]
  },
  {
   "cell_type": "code",
   "execution_count": null,
   "metadata": {},
   "outputs": [],
   "source": []
  },
  {
   "cell_type": "markdown",
   "metadata": {},
   "source": [
    "**6.** Vamos a instalar los siguients paquetes:\n",
    "\n",
    "En el entorno virtual recientemente creado, a modo de práctica:\n",
    "\n",
    "* pandas\n",
    "* pandasql\n",
    "* seaborn\n",
    "* librosa\n",
    "\n",
    "Usando, alguno de los siguientes gestores:\n",
    "\n",
    "``` bash\n",
    "conda install numpy\n",
    "```\n",
    "``` bash\n",
    "pip install numpy\n",
    "```\n",
    "\n",
    "En el entorno virtual **base** (el que esta por defecto):\n",
    "* numpy\n",
    "* matplotlib\n",
    "* scipy\n",
    "\n",
    "> Es importante estar posicionado en el entorno virtual creado, sino la instalacion se realizan en el entorno base. Los paquetes que no están incluidos en Conda pueden instalarse a través del gestor de paquetes **pip**, como es el caso de **librosa**.\n",
    "\n",
    "Hay una forma mas practica de instalar varios paquetes, usando un archivo de texto *requirements.txt*, [aca](https://medium.com/@boscacci/why-and-how-to-make-a-requirements-txt-f329c685181e) una nota que explica en detalle crear estos archivos.\n",
    "\n",
    "``` bash\n",
    "pip install -r requirements.txt # comando para instalar los paquetes usando un archivo de texto\n",
    "```"
   ]
  },
  {
   "cell_type": "code",
   "execution_count": null,
   "metadata": {},
   "outputs": [],
   "source": []
  },
  {
   "cell_type": "markdown",
   "metadata": {},
   "source": [
    "**7.** Eliminar el entorno virtual creado anteriormente, \"prueba\". Simplemente borrando la carpeta:\n",
    "\n",
    "* En el caso de [conda](https://docs.conda.io/projects/conda/en/latest/user-guide/tasks/manage-environments.html#removing-an-environment).\n",
    "* En el caso de [virtualenv](https://virtualenv.pypa.io/en/stable/userguide/#removing-an-environment)."
   ]
  },
  {
   "cell_type": "code",
   "execution_count": null,
   "metadata": {},
   "outputs": [],
   "source": []
  }
 ],
 "metadata": {
  "kernelspec": {
   "display_name": "Python 3",
   "language": "python",
   "name": "python3"
  },
  "language_info": {
   "codemirror_mode": {
    "name": "ipython",
    "version": 3
   },
   "file_extension": ".py",
   "mimetype": "text/x-python",
   "name": "python",
   "nbconvert_exporter": "python",
   "pygments_lexer": "ipython3",
   "version": "3.7.5"
  }
 },
 "nbformat": 4,
 "nbformat_minor": 4
}
